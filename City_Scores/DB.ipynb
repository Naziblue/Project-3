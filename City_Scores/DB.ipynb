{
 "cells": [
  {
   "cell_type": "code",
   "execution_count": null,
   "metadata": {},
   "outputs": [],
   "source": [
    "from pathlib import Path\n",
    "from sqlalchemy import create_engine\n",
    "\n",
    "# Create a reference to the file. \n",
    "database_path = Path(\"../Resources/Census_Data.sqlite\")"
   ]
  }
 ],
 "metadata": {
  "language_info": {
   "name": "python"
  },
  "orig_nbformat": 4
 },
 "nbformat": 4,
 "nbformat_minor": 2
}
